{
 "cells": [
  {
   "cell_type": "code",
   "execution_count": 29,
   "metadata": {},
   "outputs": [
    {
     "ename": "ModuleNotFoundError",
     "evalue": "No module named 'Image'",
     "output_type": "error",
     "traceback": [
      "\u001b[0;31m---------------------------------------------------------------------------\u001b[0m",
      "\u001b[0;31mModuleNotFoundError\u001b[0m                       Traceback (most recent call last)",
      "\u001b[0;32m<ipython-input-29-c254d3922c97>\u001b[0m in \u001b[0;36m<module>\u001b[0;34m()\u001b[0m\n\u001b[1;32m      1\u001b[0m \u001b[0;32mfrom\u001b[0m \u001b[0mPIL\u001b[0m \u001b[0;32mimport\u001b[0m \u001b[0mImage\u001b[0m\u001b[0;34m\u001b[0m\u001b[0;34m\u001b[0m\u001b[0m\n\u001b[1;32m      2\u001b[0m \u001b[0;34m\u001b[0m\u001b[0m\n\u001b[0;32m----> 3\u001b[0;31m \u001b[0;32mimport\u001b[0m \u001b[0mImage\u001b[0m\u001b[0;34m\u001b[0m\u001b[0;34m\u001b[0m\u001b[0m\n\u001b[0m\u001b[1;32m      4\u001b[0m \u001b[0;32mimport\u001b[0m \u001b[0mpytesseract\u001b[0m\u001b[0;34m\u001b[0m\u001b[0;34m\u001b[0m\u001b[0m\n",
      "\u001b[0;31mModuleNotFoundError\u001b[0m: No module named 'Image'"
     ]
    }
   ],
   "source": [
    "from PIL import Image\n",
    "\n",
    "import Image\n",
    "\n"
   ]
  },
  {
   "cell_type": "code",
   "execution_count": 35,
   "metadata": {},
   "outputs": [
    {
     "name": "stdout",
     "output_type": "stream",
     "text": [
      "Shape: (1996, 1384, 4)\n"
     ]
    },
    {
     "ename": "NameError",
     "evalue": "name 'sdxf' is not defined",
     "output_type": "error",
     "traceback": [
      "\u001b[0;31m---------------------------------------------------------------------------\u001b[0m",
      "\u001b[0;31mNameError\u001b[0m                                 Traceback (most recent call last)",
      "\u001b[0;32m<ipython-input-35-97d08b4e2f3a>\u001b[0m in \u001b[0;36m<module>\u001b[0;34m()\u001b[0m\n\u001b[1;32m     21\u001b[0m \u001b[0;34m\u001b[0m\u001b[0m\n\u001b[1;32m     22\u001b[0m \u001b[0;31m# Create a drawing, we will add things to it\u001b[0m\u001b[0;34m\u001b[0m\u001b[0;34m\u001b[0m\u001b[0;34m\u001b[0m\u001b[0m\n\u001b[0;32m---> 23\u001b[0;31m \u001b[0mdrawing\u001b[0m \u001b[0;34m=\u001b[0m \u001b[0msdxf\u001b[0m\u001b[0;34m.\u001b[0m\u001b[0mDrawing\u001b[0m\u001b[0;34m(\u001b[0m\u001b[0;34m)\u001b[0m\u001b[0;34m\u001b[0m\u001b[0;34m\u001b[0m\u001b[0m\n\u001b[0m\u001b[1;32m     24\u001b[0m \u001b[0;34m\u001b[0m\u001b[0m\n\u001b[1;32m     25\u001b[0m \u001b[0;31m# In this block we are creating various objects and adding them to the drawing\u001b[0m\u001b[0;34m\u001b[0m\u001b[0;34m\u001b[0m\u001b[0;34m\u001b[0m\u001b[0m\n",
      "\u001b[0;31mNameError\u001b[0m: name 'sdxf' is not defined"
     ]
    }
   ],
   "source": [
    "import argparse # pip3 install argparse\n",
    "import pytesseract # pip3 install pytesseract\n",
    "import PIL  # pip3 install pillow\n",
    "# import sdxf # pip3 install sdxf\n",
    "import numpy #pip3 install numpy\n",
    "\n",
    "\n",
    "# Might want to use 'import argparse' to get arguments from command line\n",
    "input_image_path = '/home/sinushas/Downloads/Brezynio_Konvertavimas/input.png'\n",
    "# AutoCAD DXF (Drawing Interchange Format, or Drawing Exchange Format) \n",
    "# is a CAD data file format developed by Autodesk[2] \n",
    "# for enabling data interoperability between AutoCAD and other programs. \n",
    "# https://en.wikipedia.org/wiki/AutoCAD_DXF\n",
    "output_path = '/home/sinushas/Downloads/Brezynio_Konvertavimas/output.dxf'\n",
    "image = PIL.Image.open(input_image_path)\n",
    "a = numpy.asarray(image)\n",
    "print('Shape:', a.shape)\n",
    "\n",
    "# Convert image to drawing here.\n",
    "\n",
    "\n",
    "# Create a drawing, we will add things to it\n",
    "drawing = sdxf.Drawing()\n",
    "\n",
    "# In this block we are creating various objects and adding them to the drawing\n",
    "# Create text object at coordinates 3, 0, 1\n",
    "text = sdxf.Text('Hello World!', point=(3, 0, 1))\n",
    "# Add text to drawing\n",
    "drawing.append(text)\n",
    "# Same with line\n",
    "line = sdxf.Line(points=[(0,0,0), (1,1,1)])\n",
    "drawing.append(line)\n",
    "\n",
    "# Finally, save file to path\n",
    "drawing.saveas(output_path)\n",
    "print('Complete')\n"
   ]
  },
  {
   "cell_type": "code",
   "execution_count": null,
   "metadata": {},
   "outputs": [],
   "source": []
  }
 ],
 "metadata": {
  "kernelspec": {
   "display_name": "Python 3",
   "language": "python",
   "name": "python3"
  },
  "language_info": {
   "codemirror_mode": {
    "name": "ipython",
    "version": 3
   },
   "file_extension": ".py",
   "mimetype": "text/x-python",
   "name": "python",
   "nbconvert_exporter": "python",
   "pygments_lexer": "ipython3",
   "version": "3.7.3"
  }
 },
 "nbformat": 4,
 "nbformat_minor": 2
}
